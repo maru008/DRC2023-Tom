{
 "cells": [
  {
   "cell_type": "markdown",
   "metadata": {},
   "source": [
    "'..\\data\\output_data\\NLU_Label_data.json'を作るipynbファイル \\\\\n",
    "\n",
    "'..\\data\\output_data\\\\value_count.csv'\n",
    "\n",
    "'..\\data\\output_data\\\\value_count_GenreInfo.csv'\n",
    "\n",
    "'..\\data\\output_data\\\\value_count_SightOptionList.csv'\n",
    "\n",
    "'..\\data\\preparation_data\\RURUBU_GenreInfo.json'\n",
    "\n",
    "'..\\data\\output_data\\\\NLU_Label_data.json'\n",
    "\n",
    "'..\\data\\output_data\\NLU_Label_data.json'\n",
    "\n",
    "をあらかじめ作成．"
   ]
  },
  {
   "cell_type": "code",
   "execution_count": null,
   "metadata": {},
   "outputs": [],
   "source": [
    "import json\n",
    "import csv\n",
    "from collections import defaultdict"
   ]
  },
  {
   "cell_type": "code",
   "execution_count": 11,
   "metadata": {},
   "outputs": [],
   "source": [
    "# RURUBU_rusults_KyotoCity.json の value をカウントし，value_count.csv として保存\n",
    "# CityGraph_app\\data\\output_data\\value_count.csv として空のcsvファイルをあらかじめ用意しておく\n",
    "\n",
    "# JSONファイルを読み込む\n",
    "with open('..\\data\\output_data\\RURUBU_results_KyotoCity.json', 'r', encoding='utf-8') as file:\n",
    "    data = json.load(file)\n",
    "\n",
    "# 各キーのバリューの頻度を数えるための辞書を初期化する\n",
    "value_frequencies = defaultdict(lambda: defaultdict(int))\n",
    "\n",
    "# リスト内の各辞書を反復処理し、各キーに対応するバリューの頻度を更新する\n",
    "for item in data:\n",
    "    if isinstance(item, dict):\n",
    "        for key, value in item.items():\n",
    "            # バリューが辞書またはリストの場合、文字列として保存する\n",
    "            if isinstance(value, (dict, list)):\n",
    "                value = str(value)\n",
    "            value_frequencies[key][value] += 1\n",
    "\n",
    "# CSVファイルに保存\n",
    "with open('..\\data\\output_data\\\\value_count.csv', 'w', newline='', encoding='utf-8') as csvfile:\n",
    "    writer = csv.writer(csvfile)\n",
    "    writer.writerow([\"Key\", \"Value\", \"Frequency\"])  # ヘッダーを書き込む\n",
    "    for key, freq_dict in value_frequencies.items():\n",
    "        for value, freq in freq_dict.items():\n",
    "            writer.writerow([key, value, freq])\n"
   ]
  },
  {
   "cell_type": "code",
   "execution_count": 13,
   "metadata": {},
   "outputs": [],
   "source": [
    "# JSONファイルを読み込む\n",
    "with open('..\\data\\output_data\\RURUBU_results_KyotoCity.json', 'r', encoding='utf-8') as file:\n",
    "    data = json.load(file)\n",
    "\n",
    "# 各レベルのジャンルの頻度を数えるための辞書を初期化する\n",
    "genre_frequencies = defaultdict(lambda: defaultdict(int))\n",
    "\n",
    "# リスト内の各辞書を反復処理し、各ジャンルの頻度を更新する\n",
    "for item in data:\n",
    "    if isinstance(item, dict) and \"GenreList\" in item:\n",
    "        genres = item[\"GenreList\"]  # この行が修正されています\n",
    "        for genre_level in genres:\n",
    "            for level, info in genre_level.items():\n",
    "                value = str(info)\n",
    "                genre_frequencies[level][value] += 1\n",
    "\n",
    "# CSVファイルに保存\n",
    "with open('..\\data\\output_data\\\\value_count_GenreInfo.csv', 'w', newline='', encoding='utf-8') as csvfile:\n",
    "    writer = csv.writer(csvfile)\n",
    "    writer.writerow([\"Level\", \"Genre Info\", \"Frequency\"])  # ヘッダーを書き込む\n",
    "    for level, freq_dict in genre_frequencies.items():\n",
    "        for genre_info, freq in freq_dict.items():\n",
    "            writer.writerow([level, genre_info, freq])\n"
   ]
  },
  {
   "cell_type": "code",
   "execution_count": 14,
   "metadata": {},
   "outputs": [],
   "source": [
    "# JSONファイルを読み込む\n",
    "with open('..\\data\\output_data\\RURUBU_results_KyotoCity.json', 'r', encoding='utf-8') as file:\n",
    "    data = json.load(file)\n",
    "\n",
    "# オプションの頻度とレベルの頻度を数えるための辞書を初期化する\n",
    "option_frequencies = defaultdict(int)\n",
    "level_frequencies = defaultdict(int)\n",
    "\n",
    "# リスト内の各辞書を反復処理し、各オプションとレベルの頻度を更新する\n",
    "for item in data:\n",
    "    if isinstance(item, dict) and \"SightOptionList\" in item:\n",
    "        options = item[\"SightOptionList\"]  # この行が修正されています\n",
    "        for option in options:\n",
    "            option_name = option.get(\"SightOptionName\", \"\")\n",
    "            level_name = option.get(\"SightOptionLevelName\", \"\")\n",
    "            option_frequencies[option_name] += 1\n",
    "            level_frequencies[level_name] += 1\n",
    "\n",
    "# CSVファイルに保存\n",
    "with open('..\\data\\output_data\\\\value_count_SightOptionList.csv', 'w', newline='', encoding='utf-8') as csvfile:\n",
    "    writer = csv.writer(csvfile)\n",
    "    writer.writerow([\"Option\", \"Frequency\"])  # ヘッダーを書き込む\n",
    "    for option, freq in option_frequencies.items():\n",
    "        writer.writerow([option, freq])\n"
   ]
  },
  {
   "cell_type": "code",
   "execution_count": 16,
   "metadata": {},
   "outputs": [],
   "source": [
    "import csv\n",
    "import json\n",
    "\n",
    "# CSVファイルを読み込む\n",
    "with open('..\\data\\output_data\\\\value_count_GenreInfo.csv', 'r', encoding='utf-8') as csvfile:\n",
    "    reader = csv.reader(csvfile)\n",
    "    next(reader)  # ヘッダーをスキップ\n",
    "\n",
    "    # ジャンル情報を格納するリストを初期化\n",
    "    genre_infos = []\n",
    "\n",
    "    # 各行からジャンル情報を取り出し、JSONとしてパース\n",
    "    for row in reader:\n",
    "        genre_info_str = row[1]  # 2番目のカラムがジャンル情報\n",
    "        genre_info_str = genre_info_str.replace(\"'\", '\"')  # シングルクォートをダブルクォートに置き換え\n",
    "        genre_info = json.loads(genre_info_str)\n",
    "        genre_infos.append(genre_info)\n",
    "\n",
    "# リストをJSONファイルとして出力\n",
    "with open('..\\data\\preparation_data\\RURUBU_GenreInfo.json', 'w', encoding='utf-8') as jsonfile:\n",
    "    json.dump(genre_infos, jsonfile, ensure_ascii=False, indent=4)\n"
   ]
  },
  {
   "cell_type": "code",
   "execution_count": 22,
   "metadata": {},
   "outputs": [],
   "source": [
    "import json\n",
    "\n",
    "NLU_Labal_data = {\n",
    "    \"SubArea\": ['下鴨・上賀茂・大原・鞍馬', '京都駅・四条河原町・京都御所', '清水・祇園・銀閣寺', '金閣寺・嵐山・高雄', '伏見・醍醐'],\n",
    "    \"Mesh\": ['下鴨・紫野・上賀茂・宝ケ池', '京都御所周辺', '二条城周辺', '祇園・円山公園・知恩院', '岡崎・吉田(京都府)', '烏丸・四条河原町', '京都駅周辺', '花脊・美山', '金閣寺・仁和寺', '伏見・桃山', '山科・醍醐', '嵐山・嵯峨野'],\n",
    "    \"LGenre\": ['見る', '食べる', '遊ぶ', '温泉地', '喫茶・甘味', '買う'],\n",
    "    \"MGenre\": ['自然', '社寺・教会', '和食', '動植物園・公園', '建物・史跡', '美術館・博物館', '体験施設', '入浴施設', 'その他', '喫茶・甘味', 'ショッピングビル', '食料品・お酒', '民芸品ほか', 'アウトドア・スポーツ', '洋食', '外国料理'],\n",
    "    \"Genre\": ['山・丘陵', '動物生息地・植物群生地', '花見スポット', '社寺・教会', '和食・日本料理', '紅葉スポット', '庭園・植物園・ハーブ園', '川・滝・湧水・渓谷', '歴史的建造物', '繁華街・町並み・散歩道', '博物館・科学館・資料館', '遺跡・史跡・城址', '記念館', 'その他体験施設', '郷土料理', 'タワー・展望施設', '温浴施設', '公園', '水族館', '美術館・ギャラリー', '劇場・映画館・演芸場', 'カフェ・喫茶・カフェレストラン', 'デパート・ショッピングビル', '食料品・地酒', '和洋菓子・スイーツ', 'その他ショップ', 'その他アウトドア・スポーツ', '農産物', '道の駅', '観光道路', '動物園', '洋食・レストラン', 'イタリア料理'],\n",
    "    \"SightOption\": ['ちょっと立ち寄り', 'ベビーおすすめ', 'キッズおすすめ','女子おすすめ', 'ペットおすすめ','春におすすめ', '夏におすすめ', '秋におすすめ', '冬におすすめ', '雨でもOK', '英語パンフレットの有無', '英語音声ガイドの有無', '歴史好きおすすめ', 'ひとりにおすすめ（飲食施設）', 'デートにおすすめ（飲食施設）', '記念日におすすめ（飲食施設）', '接待におすすめ（飲食施設）', '女子会におすすめ（飲食施設）', '英語メニューの有無（飲食施設）', '昼の予算目安（飲食施設）', '夜の予算目安（飲食施設）', 'たばこ（飲食施設）', '女性向けサービスの有無（日帰り入浴施設）', 'カップルで利用可の貸切風呂の有無（日帰り入浴施設）'],\n",
    "    \"Time\": ['訪問曜日', '午前午後', '観光時間'],\n",
    "    \"DayOfTheWeek\": ['平日', '休日', '祝日'],\n",
    "    \"Duration\": ['1時間未満', '1時間以上2時間未満', '2時間以上3時間未満', '3時間以上'],\n",
    "    \"VisitStartTime\": ['9時以前', '9時', '10時', '11時', '12時', '13時', '14時', '15時', '16時', '17時', '17時以降'],\n",
    "    \"Traffic\": ['自家用車', '公共交通機関', 'タクシー', '自転車', 'その他']\n",
    "}\n",
    "\n",
    "# JSONファイルとして出力\n",
    "with open('..\\data\\output_data\\\\NLU_Label_data.json', 'w', encoding='utf-8') as jsonfile:\n",
    "    json.dump(NLU_Labal_data, jsonfile, ensure_ascii=False, indent=4)\n"
   ]
  },
  {
   "cell_type": "code",
   "execution_count": null,
   "metadata": {},
   "outputs": [],
   "source": []
  }
 ],
 "metadata": {
  "kernelspec": {
   "display_name": "Python 3",
   "language": "python",
   "name": "python3"
  },
  "language_info": {
   "codemirror_mode": {
    "name": "ipython",
    "version": 3
   },
   "file_extension": ".py",
   "mimetype": "text/x-python",
   "name": "python",
   "nbconvert_exporter": "python",
   "pygments_lexer": "ipython3",
   "version": "3.11.5"
  },
  "orig_nbformat": 4
 },
 "nbformat": 4,
 "nbformat_minor": 2
}
