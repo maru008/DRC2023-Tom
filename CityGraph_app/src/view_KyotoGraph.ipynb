{
 "cells": [
  {
   "cell_type": "code",
   "execution_count": 3,
   "metadata": {},
   "outputs": [],
   "source": [
    "import os\n",
    "import json\n",
    "import redis\n",
    "from redisgraph import Graph, Node, Edge\n",
    "import matplotlib.pyplot as plt\n",
    "import networkx as nx\n",
    "from matplotlib.font_manager import FontProperties\n",
    "\n",
    "font_path = \"/Users/naokiyoshimaru/Downloads/ipaexg00401/ipaexg.ttf\"\n",
    "font_prop = FontProperties(fname=font_path)"
   ]
  },
  {
   "cell_type": "code",
   "execution_count": 4,
   "metadata": {},
   "outputs": [],
   "source": [
    "graph_name = 'KyotoCityGraph'\n",
    "redis_con = redis.Redis(host='localhost', port=6379)\n",
    "graph = Graph(graph_name, redis_con)"
   ]
  },
  {
   "cell_type": "code",
   "execution_count": 5,
   "metadata": {},
   "outputs": [],
   "source": [
    "query = \"\"\"MATCH (n:SightseeingSpot) RETURN n.Name, n.Latitude, n.Longitude\"\"\"\n",
    "result = graph.query(query)\n",
    "\n",
    "# 結果を取得\n",
    "stations = []\n",
    "for record in result.result_set:\n",
    "    station_name, lat, lon = record\n",
    "    stations.append((station_name, lat, lon))\n"
   ]
  },
  {
   "cell_type": "code",
   "execution_count": 60,
   "metadata": {},
   "outputs": [],
   "source": [
    "import folium\n",
    "\n",
    "# 京都市の緯度経度\n",
    "kyoto_lat, kyoto_lon = 35.0116, 135.7681\n",
    "\n",
    "# 地図を作成\n",
    "m = folium.Map(location=[kyoto_lat, kyoto_lon], zoom_start=12)\n",
    "\n",
    "# stationsリストには前述のコードで取得した駅の緯度経度情報が入っていると仮定\n",
    "for station_name, lat, lon in stations:\n",
    "    folium.Marker([lat, lon], tooltip=station_name).add_to(m)\n",
    "m.save('kyoto_SightseeingSpot_map.html')\n"
   ]
  },
  {
   "cell_type": "code",
   "execution_count": 23,
   "metadata": {},
   "outputs": [
    {
     "name": "stdout",
     "output_type": "stream",
     "text": [
      "丹波口駅 JR藤森駅\n"
     ]
    }
   ],
   "source": [
    "def find_route_by_name(graph, sight1_name, sight2_name):\n",
    "    # 最寄りの駅を見つけるクエリ\n",
    "    query_nearest_stations = (\n",
    "        f\"MATCH (s1:SightseeingSpot)-[:NEAR]->(start:Station), \"\n",
    "        f\"(s2:SightseeingSpot)-[:NEAR]->(end:Station) \"\n",
    "        f\"WHERE s1.Name = '{sight1_name}' AND s2.Name = '{sight2_name}' \"\n",
    "        \"RETURN start, end\"\n",
    "    )\n",
    "    result = graph.query(query_nearest_stations)\n",
    "    start_station, end_station = result.result_set[0]\n",
    "    start_station_name, end_station_name = start_station.properties[\"Name\"],end_station.properties[\"Name\"]\n",
    "    print(start_station_name, end_station_name)\n",
    "    # 最短経路を見つけるクエリ\n",
    "    query_shortest_path = f\"MATCH path = (start:Station)-[:TRAINLINE*]-(end:Station) WHERE start.Name = '{start_station_name}' AND end.Name = '{end_station_name}' RETURN path\"\n",
    "    result = graph.query(query_shortest_path)\n",
    "    return result.result_set[0][0]\n",
    "\n",
    "# sight1_nameとsight2_nameに観光地の名前をセット\n",
    "sight1_name = \"角屋もてなしの文化美術館\"\n",
    "sight2_name = \"藤森神社\"\n",
    "path = find_route_by_name(graph, sight1_name, sight2_name)\n",
    "print(path)"
   ]
  },
  {
   "cell_type": "code",
   "execution_count": null,
   "metadata": {},
   "outputs": [],
   "source": []
  }
 ],
 "metadata": {
  "kernelspec": {
   "display_name": ".venv",
   "language": "python",
   "name": "python3"
  },
  "language_info": {
   "codemirror_mode": {
    "name": "ipython",
    "version": 3
   },
   "file_extension": ".py",
   "mimetype": "text/x-python",
   "name": "python",
   "nbconvert_exporter": "python",
   "pygments_lexer": "ipython3",
   "version": "3.9.7"
  },
  "orig_nbformat": 4
 },
 "nbformat": 4,
 "nbformat_minor": 2
}
