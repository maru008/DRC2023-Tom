{
 "cells": [
  {
   "cell_type": "code",
   "execution_count": 1,
   "metadata": {},
   "outputs": [],
   "source": [
    "import os\n",
    "import json\n",
    "import redis\n",
    "from redisgraph import Graph, Node, Edge\n",
    "import matplotlib.pyplot as plt\n",
    "import networkx as nx\n",
    "from matplotlib.font_manager import FontProperties\n",
    "\n",
    "font_path = \"/Users/naokiyoshimaru/Downloads/ipaexg00401/ipaexg.ttf\"\n",
    "font_prop = FontProperties(fname=font_path)"
   ]
  },
  {
   "cell_type": "code",
   "execution_count": 3,
   "metadata": {},
   "outputs": [],
   "source": [
    "redis_con = redis.Redis(host='localhost', port=6379)\n",
    "graph = Graph('KyotoCityGraph', redis_con)"
   ]
  },
  {
   "cell_type": "code",
   "execution_count": 6,
   "metadata": {},
   "outputs": [
    {
     "data": {
      "text/plain": [
       "[]"
      ]
     },
     "execution_count": 6,
     "metadata": {},
     "output_type": "execute_result"
    }
   ],
   "source": [
    "baseSpot_result.result_set"
   ]
  },
  {
   "cell_type": "code",
   "execution_count": 4,
   "metadata": {},
   "outputs": [
    {
     "ename": "IndexError",
     "evalue": "list index out of range",
     "output_type": "error",
     "traceback": [
      "\u001b[0;31m---------------------------------------------------------------------------\u001b[0m",
      "\u001b[0;31mIndexError\u001b[0m                                Traceback (most recent call last)",
      "Cell \u001b[0;32mIn[4], line 5\u001b[0m\n\u001b[1;32m      2\u001b[0m base_query \u001b[39m=\u001b[39m \u001b[39mf\u001b[39m\u001b[39m\"\u001b[39m\u001b[39mMATCH (n:Station \u001b[39m\u001b[39m{{\u001b[39;00m\u001b[39mname: \u001b[39m\u001b[39m'\u001b[39m\u001b[39m{\u001b[39;00mbase_station\u001b[39m}\u001b[39;00m\u001b[39m'\u001b[39m\u001b[39m}}\u001b[39;00m\u001b[39m) RETURN n\u001b[39m\u001b[39m\"\u001b[39m\n\u001b[1;32m      4\u001b[0m baseSpot_result \u001b[39m=\u001b[39m graph\u001b[39m.\u001b[39mquery(base_query)\n\u001b[0;32m----> 5\u001b[0m baseSpot_node_properties \u001b[39m=\u001b[39m baseSpot_result\u001b[39m.\u001b[39;49mresult_set[\u001b[39m0\u001b[39;49m][\u001b[39m0\u001b[39m]\u001b[39m.\u001b[39mproperties\n\u001b[1;32m      6\u001b[0m baseSpot_name \u001b[39m=\u001b[39m baseSpot_node_properties[\u001b[39m'\u001b[39m\u001b[39mname\u001b[39m\u001b[39m'\u001b[39m]\n\u001b[1;32m      7\u001b[0m baseSpot_latitude \u001b[39m=\u001b[39m baseSpot_node_properties[\u001b[39m'\u001b[39m\u001b[39mlatitude\u001b[39m\u001b[39m'\u001b[39m]\n",
      "\u001b[0;31mIndexError\u001b[0m: list index out of range"
     ]
    }
   ],
   "source": [
    "base_station = \"今出川駅\"\n",
    "base_query = f\"MATCH (n:Station {{name: '{base_station}'}}) RETURN n\"\n",
    "\n",
    "baseSpot_result = graph.query(base_query)\n",
    "baseSpot_node_properties = baseSpot_result.result_set[0][0].properties\n",
    "baseSpot_name = baseSpot_node_properties['name']\n",
    "baseSpot_latitude = baseSpot_node_properties['latitude']\n",
    "baseSpot_longitude = baseSpot_node_properties['longitude']\n",
    "\n",
    "G = nx.Graph()\n",
    "\n",
    "G.add_node(baseSpot_name, latitude=baseSpot_latitude, longitude=baseSpot_longitude)\n"
   ]
  },
  {
   "cell_type": "code",
   "execution_count": 5,
   "metadata": {},
   "outputs": [
    {
     "ename": "NameError",
     "evalue": "name 'G' is not defined",
     "output_type": "error",
     "traceback": [
      "\u001b[0;31m---------------------------------------------------------------------------\u001b[0m",
      "\u001b[0;31mNameError\u001b[0m                                 Traceback (most recent call last)",
      "Cell \u001b[0;32mIn[5], line 14\u001b[0m\n\u001b[1;32m     10\u001b[0m     G\u001b[39m.\u001b[39madd_edge(base_station, name)\n\u001b[1;32m     13\u001b[0m \u001b[39m# 位置情報から描画位置を計算\u001b[39;00m\n\u001b[0;32m---> 14\u001b[0m pos \u001b[39m=\u001b[39m {node: (\u001b[39mfloat\u001b[39m(data[\u001b[39m'\u001b[39m\u001b[39mlongitude\u001b[39m\u001b[39m'\u001b[39m]), \u001b[39mfloat\u001b[39m(data[\u001b[39m'\u001b[39m\u001b[39mlatitude\u001b[39m\u001b[39m'\u001b[39m])) \u001b[39mfor\u001b[39;00m node, data \u001b[39min\u001b[39;00m G\u001b[39m.\u001b[39mnodes(data\u001b[39m=\u001b[39m\u001b[39mTrue\u001b[39;00m)}\n\u001b[1;32m     16\u001b[0m plt\u001b[39m.\u001b[39mfigure(figsize\u001b[39m=\u001b[39m(\u001b[39m10\u001b[39m,\u001b[39m10\u001b[39m))\n\u001b[1;32m     17\u001b[0m \u001b[39m# グラフを描画\u001b[39;00m\n",
      "\u001b[0;31mNameError\u001b[0m: name 'G' is not defined"
     ]
    }
   ],
   "source": [
    "\n",
    "\n",
    "query = f\"MATCH (n:Station {{name: '{base_station}'}})--(connected_node) RETURN connected_node\"\n",
    "result = graph.query(query)\n",
    "# クエリの結果からノードとエッジを追加\n",
    "for record in result.result_set:\n",
    "    connected_node_properties = record[0].properties\n",
    "    name = connected_node_properties['name']\n",
    "    latitude = connected_node_properties['latitude']\n",
    "    longitude = connected_node_properties['longitude']\n",
    "    G.add_node(name, latitude=latitude, longitude=longitude)\n",
    "    G.add_edge(base_station, name)\n",
    "\n",
    "\n",
    "# 位置情報から描画位置を計算\n",
    "pos = {node: (float(data['longitude']), float(data['latitude'])) for node, data in G.nodes(data=True)}\n",
    "\n",
    "plt.figure(figsize=(10,10))\n",
    "# グラフを描画\n",
    "nx.draw(G, pos, with_labels=False, node_size=500, node_color=\"skyblue\")\n",
    "\n",
    "# ラベルの描画\n",
    "for node, (x, y) in pos.items():\n",
    "    plt.text(x, y, node, fontproperties=font_prop, ha='center')\n",
    "    \n",
    "plt.title(f'{base_station}周辺の観光地', fontproperties=font_prop)\n",
    "plt.xlabel('経度', fontproperties=font_prop)\n",
    "plt.ylabel('緯度', fontproperties=font_prop)\n",
    "plt.show()\n"
   ]
  },
  {
   "cell_type": "code",
   "execution_count": null,
   "metadata": {},
   "outputs": [],
   "source": []
  },
  {
   "cell_type": "code",
   "execution_count": null,
   "metadata": {},
   "outputs": [],
   "source": []
  }
 ],
 "metadata": {
  "kernelspec": {
   "display_name": ".venv",
   "language": "python",
   "name": "python3"
  },
  "language_info": {
   "codemirror_mode": {
    "name": "ipython",
    "version": 3
   },
   "file_extension": ".py",
   "mimetype": "text/x-python",
   "name": "python",
   "nbconvert_exporter": "python",
   "pygments_lexer": "ipython3",
   "version": "3.9.7"
  },
  "orig_nbformat": 4
 },
 "nbformat": 4,
 "nbformat_minor": 2
}
